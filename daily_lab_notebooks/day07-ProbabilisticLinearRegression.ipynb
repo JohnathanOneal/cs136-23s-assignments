{
 "cells": [
  {
   "cell_type": "markdown",
   "metadata": {},
   "source": [
    "# CS 136 day07: Probabilistic Linear Regression\n",
    "\n",
    "## Outline\n",
    "\n",
    "* **Part 1: Understanding the probabilistic model of linear regression**\n",
    "\n",
    "* Exercise 1a: Compute feature transformation\n",
    "* Exercise 1b-1c: Compute the parameters of the posterior\n",
    "* Exercise 1d: Visualize samples from weight posterior as more data is observed\n",
    "* Exercise 1e: Visualize samples of implied linear prediction function as more data is observed\n",
    "* Exercise 1f: Compare to ML point estimation\n",
    "\n",
    "## Takeaways\n",
    "\n",
    "* Probabilistic view helps especially when we have few training examples\n",
    "* Given enough data, the posterior will concentrate in weight space at the ML point estimate\n",
    "* Hyperparameters like $\\alpha$ (prior precision) and $\\beta$ (likelihood precision) can matter"
   ]
  },
  {
   "cell_type": "code",
   "execution_count": 1,
   "metadata": {},
   "outputs": [],
   "source": [
    "import numpy as np\n",
    "import pandas as pd\n",
    "import scipy.stats"
   ]
  },
  {
   "cell_type": "code",
   "execution_count": 2,
   "metadata": {},
   "outputs": [],
   "source": [
    "np.set_printoptions(precision=3, suppress=False)"
   ]
  },
  {
   "cell_type": "code",
   "execution_count": 3,
   "metadata": {},
   "outputs": [],
   "source": [
    "pd.options.display.float_format = '{:,.3g}'.format  # show 3 digits of precision"
   ]
  },
  {
   "cell_type": "code",
   "execution_count": 4,
   "metadata": {},
   "outputs": [],
   "source": [
    "import matplotlib.pyplot as plt\n",
    "import seaborn as sns\n",
    "sns.set_style(\"whitegrid\")\n",
    "sns.set_context(\"notebook\", font_scale=1.25)"
   ]
  },
  {
   "cell_type": "code",
   "execution_count": null,
   "metadata": {},
   "outputs": [],
   "source": []
  },
  {
   "cell_type": "markdown",
   "metadata": {},
   "source": [
    "# Part 1: Probabilistic Model view of linear regression"
   ]
  },
  {
   "cell_type": "markdown",
   "metadata": {},
   "source": [
    "### Task: Linear regression\n",
    "\n",
    "Given $N$ observations of *paired* feature-outcome observations: $\\{ x_n, t_n \\}$. \n",
    "\n",
    "For now, we will assume:\n",
    "\n",
    "* Input feature $x_n \\in \\mathbb{R}$ is a scalar\n",
    "* Outcome value $t_n \\in \\mathbb{R}$ is a scalar\n",
    "\n",
    "We're also given a feature transform function $\\phi$, known in advance. \n",
    "\n",
    "For now, we'll assume that the \"feature transform\" $\\phi(x_n)$ just simply passes along the features $x_n$, while adding an additional offset or \"intercept\" feature that is always 1. This is a *simplifying* assumption for today.\n",
    "\n",
    "$$\n",
    "\\phi(x_n) = [ x_n, 1]\n",
    "$$\n",
    "\n",
    "We want to make good predictions of new outcomes $t_*$ given new features $x_*$.\n",
    "\n",
    "After today, we can consider even more flexible input spaces and feature transforms\n",
    "\n",
    "* $x_n$ may be a vector in some $F$-dimensional space\n",
    "* $\\phi$ can map each $x_n$ to a vector in $M$-dimensional space\n",
    "\n",
    "We assume $F=1$ and $M=2$ to make visualization and basic understanding easy for today.\n"
   ]
  },
  {
   "cell_type": "code",
   "execution_count": 5,
   "metadata": {},
   "outputs": [],
   "source": [
    "def calc_features(x_N1, M=2):\n",
    "    ''' Transform raw features into complete features useful for prediction\n",
    "    \n",
    "    Could do any non-linear transformations thought relevant for the problem.\n",
    "    Here we'll just do an identity transform with an extra intercept feature.\n",
    "    \n",
    "    Args\n",
    "    ----\n",
    "    x_N1 : 2D array, shape (N, 1) = (n_examples,)\n",
    "    \n",
    "    Returns\n",
    "    -------\n",
    "    phi_NM : 2D array, shape (N, M) = (n_examples, n_transformed_features)\n",
    "        First column will contain all ones (a bias or intercept feature)\n",
    "        Second column will just include the raw features\n",
    "    '''\n",
    "    assert x_N1.ndim == 2\n",
    "    assert x_N1.shape[1] == 1\n",
    "    N = x_N1.shape[0]\n",
    "    phi_NM = np.zeros((N, M))\n",
    "    phi_NM[:,0] = 1\n",
    "    phi_NM[:,1] = x_N1[:,0]\n",
    "    return phi_NM"
   ]
  },
  {
   "cell_type": "markdown",
   "metadata": {},
   "source": [
    "## Exercise 1a: Obtain transformed features $\\phi(x_n)$ when $x_n = [2.0]$"
   ]
  },
  {
   "cell_type": "code",
   "execution_count": 6,
   "metadata": {},
   "outputs": [],
   "source": [
    "x_N1 = np.asarray([[2.0]])  # create a N=1 x F=1 array (one example, one feature)\n",
    "\n",
    "# TODO call calc_features() to get the feature transform, yielding an (N, M) shaped array"
   ]
  },
  {
   "cell_type": "markdown",
   "metadata": {},
   "source": [
    "\n",
    "## Define the  Prior\n",
    "\n",
    "For now, we'll assume that weights come from a zero mean prior with some covariance scaled by $\\alpha$:\n",
    "\n",
    "$$\n",
    "w \\sim \\mathcal{N}( 0, \\alpha^{-1} I_M )\n",
    "$$\n",
    "\n",
    "## Define the Likelihood\n",
    "\n",
    "Each observation (indexed by $n$) is drawn iid from a Normal (after conditioning on $w$):\n",
    "\n",
    "$$\n",
    "t_n | w \\sim \\mathcal{N}( t_n | w^T \\phi(x_n), \\beta^{-1} )\n",
    "$$\n",
    "\n",
    "\n",
    "### Parameter we'll treat as a random variable: $w$\n",
    "\n",
    "* Weights vector: $w = [w_1, w_2, \\ldots w_M]^T$, so $w \\in \\mathbb{R}^M$\n",
    "\n",
    "### Parameters we'll treat as fixed: $\\alpha$ and $\\beta$\n",
    "\n",
    "\n",
    "* Prior precision $\\alpha > 0$\n",
    "\n",
    "The larger $\\alpha$ is, the more confident we are in the weight values before seeing any data.\n",
    "\n",
    "* Likelihood precision $\\beta > 0$\n",
    "\n",
    "The larger $\\beta$ is, the less the observed $t$ values vary from the predicted mean.\n",
    "\n",
    "By definition, $\\beta^{-1}$ defines the variance of our assumed Gaussian likelihood. So *precision* $\\beta$ is an \"inverse\" variance."
   ]
  },
  {
   "cell_type": "code",
   "execution_count": null,
   "metadata": {},
   "outputs": [],
   "source": []
  },
  {
   "cell_type": "markdown",
   "metadata": {},
   "source": [
    "## Create a simple toy data for analysis"
   ]
  },
  {
   "cell_type": "code",
   "execution_count": 7,
   "metadata": {},
   "outputs": [],
   "source": [
    "N = 2000  # Number of examples we observe\n",
    "M = 2    # Number of transformed features"
   ]
  },
  {
   "cell_type": "code",
   "execution_count": 8,
   "metadata": {},
   "outputs": [],
   "source": [
    "# Create reproducible pseudorandom number generator\n",
    "prng = np.random.RandomState(0)"
   ]
  },
  {
   "cell_type": "markdown",
   "metadata": {},
   "source": [
    "Create the weight vector we'll use to generate our dataset"
   ]
  },
  {
   "cell_type": "code",
   "execution_count": 9,
   "metadata": {},
   "outputs": [],
   "source": [
    "true_w_M = np.asarray([1.2, -0.75])"
   ]
  },
  {
   "cell_type": "markdown",
   "metadata": {},
   "source": [
    "Create a \"true\" alpha value which controls the prior precision"
   ]
  },
  {
   "cell_type": "code",
   "execution_count": 10,
   "metadata": {},
   "outputs": [],
   "source": [
    "true_alpha = 1.0"
   ]
  },
  {
   "cell_type": "markdown",
   "metadata": {},
   "source": [
    "Create a \"true\" beta which defines the likelihood precision"
   ]
  },
  {
   "cell_type": "code",
   "execution_count": 11,
   "metadata": {},
   "outputs": [],
   "source": [
    "true_beta = 0.5"
   ]
  },
  {
   "cell_type": "markdown",
   "metadata": {},
   "source": [
    "Create observed features $x$ and do a \"feature transform\" that just adds a column of all ones (an \"intercept\" feature)"
   ]
  },
  {
   "cell_type": "code",
   "execution_count": 12,
   "metadata": {},
   "outputs": [],
   "source": [
    "x_N1 = prng.uniform(low=-7, high=7, size=N)[:,np.newaxis]\n",
    "phi_NM = calc_features(x_N1)"
   ]
  },
  {
   "cell_type": "markdown",
   "metadata": {},
   "source": [
    "Generate outputs t using our assumed model"
   ]
  },
  {
   "cell_type": "code",
   "execution_count": 13,
   "metadata": {},
   "outputs": [],
   "source": [
    "t_N = prng.normal(np.dot(phi_NM, true_w_M), 1.0/np.sqrt(true_beta))"
   ]
  },
  {
   "cell_type": "code",
   "execution_count": 14,
   "metadata": {},
   "outputs": [],
   "source": [
    "# Make backups of original data just in case\n",
    "orig_x_N1 = x_N1.copy()\n",
    "orig_phi_NM = phi_NM.copy()\n",
    "orig_t_N = t_N.copy()"
   ]
  },
  {
   "cell_type": "markdown",
   "metadata": {},
   "source": [
    "## Visualize the toy dataset"
   ]
  },
  {
   "cell_type": "code",
   "execution_count": 15,
   "metadata": {},
   "outputs": [
    {
     "data": {
      "image/png": "[encoded data removed]",
      "text/plain": [
       "<Figure size 432x288 with 1 Axes>"
      ]
     },
     "metadata": {},
     "output_type": "display_data"
    }
   ],
   "source": [
    "plt.plot(orig_x_N1, orig_t_N, 'k.');\n",
    "\n",
    "ax_h = plt.gca()\n",
    "ax_h.set_aspect('equal', 'box');\n",
    "ax_h.set_xlim([-8, 8]); ax_h.set_xticks([-6, -4, -2, 0, 2, 4, 6]);\n",
    "ax_h.set_ylim([-8, 8]); ax_h.set_yticks([-6, -4, -2, 0, 2, 4, 6]);\n",
    "\n",
    "xgrid_G = np.linspace(-8, 8, 100)[:,np.newaxis]\n",
    "plt.plot(xgrid_G, np.dot(calc_features(xgrid_G), true_w_M), 'b-');\n",
    "\n",
    "plt.xlabel('input: x');\n",
    "plt.ylabel('output: t');\n",
    "plt.title(\"Toy Data\\n true_slope %.2f \\n true intercept %.2f\\n true precision beta %.2f\" % (\n",
    "    true_w_M[1], true_w_M[0], true_beta));"
   ]
  },
  {
   "cell_type": "markdown",
   "metadata": {},
   "source": [
    "## Posterior over weights"
   ]
  },
  {
   "cell_type": "markdown",
   "metadata": {},
   "source": [
    "Recall formulas for the posterior over the weight vector $w$, simplified for our zero-mean, diagonal-covariance prior on $w$:\n",
    "\n",
    "\\begin{align}\n",
    "p( w | t) &= \\text{MVNormPDF}( w | m, S )\n",
    "\\\\\n",
    "S^{-1} &= \\alpha I_M + \\beta \\Phi^T \\Phi\n",
    "\\\\\n",
    "m &= \\beta S \\Phi^T \\mathbf{t}\n",
    "\\end{align}\n",
    "\n",
    "In other words, the posterior is a Gaussian distribution, where:\n",
    "* $m$ is the mean vector of shape $(M,)$ \n",
    "* $S$ is the covariance matrix of shape $(M, M)$\n",
    "\n",
    "\n",
    "The ingredients of these formulas are:\n",
    "* $\\alpha > 0$ : prior precision\n",
    "* $\\beta > 0$ : likelihood precision\n",
    "* $\\Phi$ : N x M matrix of transformed features (\"inputs\")\n",
    "* $\\mathbf{t}$ : N-dimensional vector of observed outputs\n",
    "* $I_M $: M x M [identity matrix](https://en.wikipedia.org/wiki/Identity_matrix) (can create with `np.eye(M)`)"
   ]
  },
  {
   "cell_type": "markdown",
   "metadata": {},
   "source": [
    "## Exercise 1b: Compute the parameters of the posterior\n",
    "\n",
    "Translate the formulas above into concrete NumPy expressions that compute the mean $m$ and covariance $S$:m"
   ]
  },
  {
   "cell_type": "code",
   "execution_count": 16,
   "metadata": {},
   "outputs": [],
   "source": [
    "def calc_parameters_of_posterior(phi_NM, t_N, alpha=0.1, beta=0.1):\n",
    "    ''' Compute parameters of the posterior for weights w\n",
    "    \n",
    "    Args\n",
    "    ----\n",
    "    phi_NM : 2D array, shape (N,M)\n",
    "        Each row is a feature vector for one example\n",
    "    t_N : 1D array, shape (N,)\n",
    "        Each row is a output scalar value for one example\n",
    "    alpha : positive scalar\n",
    "        Prior precision\n",
    "    beta : positive scalar\n",
    "        Likelihood precision\n",
    "    \n",
    "    Returns\n",
    "    -------\n",
    "    m_M : posterior mean vector, shape (M,)\n",
    "    S_MM : posterior covariance matrix, shape (M, M)\n",
    "    '''\n",
    "    N, M = phi_NM.shape\n",
    "    invS_MM = np.eye(M) # TODO FIXME compute inverse of the posterior covariance S\n",
    "    m_M = np.zeros(M)   # TODO FIXME compute posterior mean\n",
    "    S_MM = np.eye(M)    # TODO FIXME use tools in np.linalg to invert invS_MM\n",
    "    return m_M, S_MM"
   ]
  },
  {
   "cell_type": "markdown",
   "metadata": {},
   "source": [
    "## Exercise 1c: Compute posterior parameters when given all N=2000 observations\n",
    "\n",
    "How close is the posterior mean to the \"true\" vector of weights that generated the data?\n",
    "\n",
    "How \"uncertain\" is the posterior (look at variance values in the covariance matrix)"
   ]
  },
  {
   "cell_type": "code",
   "execution_count": 17,
   "metadata": {},
   "outputs": [],
   "source": [
    "# TODO call calc_parameters_of_posterior(...) with the toy dataset we generated above, and the \"true\" alpha/beta values"
   ]
  },
  {
   "cell_type": "code",
   "execution_count": 18,
   "metadata": {},
   "outputs": [],
   "source": [
    "# TODO answer the questions above"
   ]
  },
  {
   "cell_type": "markdown",
   "metadata": {},
   "source": [
    "## Exercise 1d: Visualize samples from weight posterior as more data is observed\n",
    "\n",
    "Do you see the posterior \"concentrate\" its mass on the true value as more data is observed?"
   ]
  },
  {
   "cell_type": "code",
   "execution_count": 19,
   "metadata": {},
   "outputs": [
    {
     "data": {
      "image/png": "[encoded data removed]",
      "text/plain": [
       "<Figure size 1728x288 with 6 Axes>"
      ]
     },
     "metadata": {},
     "output_type": "display_data"
    }
   ],
   "source": [
    "# Define the number of observations to look at to make a posterior\n",
    "N_values = [0, 2, 8, 32, 128, N]\n",
    "C = len(N_values)\n",
    "\n",
    "# Define the number of samples from the posterior to visualize\n",
    "S = 100\n",
    "\n",
    "# Create reproducible pseudorandom number generator\n",
    "prng = np.random.RandomState(0)\n",
    "\n",
    "# Create figure\n",
    "fig_h, axgrid = plt.subplots(nrows=1, ncols=C, sharex=True, sharey=True, figsize=(C * 4, 4))\n",
    "\n",
    "for col_id, Ncur in enumerate(N_values):\n",
    "\n",
    "    # Create the posterior from the first Ncur observations\n",
    "    # Hint: use phi_NM[:10] to get the first 10 observations\n",
    "    m_M, S_MM = np.zeros(M), np.ones(M) # TODO FIXME call calc_parameters_of_posterior\n",
    "    \n",
    "    # Draw samples from the posterior with the parameters defined above\n",
    "    w_SM = np.zeros((S, M)) # TODO FIXME call prng.multivariate_normal with correct params to get samples\n",
    "        \n",
    "    # Activate current subplot and get its handle\n",
    "    ax_h = axgrid[col_id]\n",
    "    for ss in range(S):\n",
    "        ax_h.plot(w_SM[ss,0], w_SM[ss,1], '.')\n",
    "\n",
    "    ax_h.plot(true_w_M[0], true_w_M[1], '+', markersize=20, mew=3, label='true w')\n",
    "    ax_h.legend(loc='upper left');\n",
    "\n",
    "    # Make plots pretty and standardized\n",
    "    ax_h.set_aspect('equal', 'box');\n",
    "    ax_h.set_xlim([-3, 3]); ax_h.set_xticks([-2, 0, 2]);\n",
    "    ax_h.set_ylim([-3, 3]); ax_h.set_yticks([-2, 0, 2]);\n",
    "    ax_h.set_xlabel('intercept weight')\n",
    "    if col_id == 0:\n",
    "        ax_h.set_ylabel('slope weight')\n",
    "    ax_h.set_title('after N=%d' % Ncur)"
   ]
  },
  {
   "cell_type": "markdown",
   "metadata": {},
   "source": [
    "## Exercise 1e: Visualize samples from posterior predictive as more data is observed\n",
    "\n",
    "Does the predicted function look more and more appropriate for the observed data?"
   ]
  },
  {
   "cell_type": "code",
   "execution_count": 20,
   "metadata": {},
   "outputs": [
    {
     "data": {
      "image/png": "[encoded data removed]",
      "text/plain": [
       "<Figure size 1728x288 with 6 Axes>"
      ]
     },
     "metadata": {},
     "output_type": "display_data"
    }
   ],
   "source": [
    "# Define the number of observations to look at to make a posterior\n",
    "N_values = [0, 2, 8, 32, 128, N]\n",
    "C = len(N_values)\n",
    "\n",
    "# Define the number of samples from the posterior to visualize\n",
    "S = 10\n",
    "\n",
    "# Create reproducible pseudorandom number generator\n",
    "prng = np.random.RandomState(33)\n",
    "\n",
    "# Create figure\n",
    "fig_h, axgrid = plt.subplots(nrows=1, ncols=C, sharex=True, sharey=True, figsize=(C * 4, 4))\n",
    "\n",
    "for col_id, Ncur in enumerate(N_values):\n",
    "\n",
    "    # Create the posterior from the first Ncur observations\n",
    "    # Hint: use phi_NM[:10] to get the first 10 observations\n",
    "    m_M, S_MM = np.zeros(M), np.ones(M) # TODO FIXME call calc_parameters_of_posterior\n",
    "    \n",
    "    # Draw samples from the posterior with the parameters defined above\n",
    "    w_SM = np.zeros((S, M)) # TODO FIXME call prng.multivariate_normal with correct params to get samples\n",
    "    \n",
    "    # Activate current subplot and get its handle\n",
    "    ax_h = axgrid[col_id]\n",
    "    \n",
    "    # Show the observed data\n",
    "    ax_h.plot(x_N1[:Ncur], t_N[:Ncur], linestyle='', marker='s', color='black')\n",
    "\n",
    "    for ss in range(S):\n",
    "        # Create a uniform grid of possible x values, to use in making predictions\n",
    "        xgrid_G = np.linspace(-8, 8, 100)[:,np.newaxis]\n",
    "        \n",
    "        # Produce the output values *t* that we get from the current sample of w_M\n",
    "        # after multiplying that weight vector with our features\n",
    "        tsamp_ss_G = np.dot(calc_features(xgrid_G), w_SM[ss,:])\n",
    "\n",
    "        # Show a plot of this sample on current axis\n",
    "        ax_h.plot(xgrid_G, tsamp_ss_G, '-');\n",
    "\n",
    "    # Make plots pretty and standardized\n",
    "    ax_h.set_aspect('equal', 'box');\n",
    "    ax_h.set_xlim([-8, 8]); ax_h.set_xticks([-6, -4, -2, 0, 2, 4, 6]);\n",
    "    ax_h.set_ylim([-8, 8]); ax_h.set_yticks([-6, -4, -2, 0, 2, 4, 6]);\n",
    "    ax_h.set_xlabel('input $x$')\n",
    "    if col_id == 0:\n",
    "        ax_h.set_ylabel('output $t$')\n",
    "    ax_h.set_title('after N=%d' % Ncur)"
   ]
  },
  {
   "cell_type": "markdown",
   "metadata": {},
   "source": [
    "## Exercise 1f: Compare to ML point estimation\n",
    "\n",
    "Recall (from previous material in the textbook) that for linear regression, the ML estimator for the weights is\n",
    "\n",
    "$$\n",
    "\\hat{w} = (\\Phi^T \\Phi)^{-1} \\Phi^T t\n",
    "$$\n",
    "\n",
    "Use this point estimator instead of the posterior samples to visualize the prediction function as in 1e\n",
    "\n",
    "Discuss:\n",
    "\n",
    "* at what values of $N$ (train set size) does having a posterior *distribution* most obviously help?\n",
    "* is there a value of $N$ past which essentially little difference between point and posterior estimation?"
   ]
  },
  {
   "cell_type": "code",
   "execution_count": 21,
   "metadata": {},
   "outputs": [],
   "source": [
    "def calc_ml_estimate_of_w_M(phi_NM, t_N):\n",
    "    ''' Compute ML point estimate of weight vector for linear regression\n",
    "    \n",
    "    Args\n",
    "    ----\n",
    "    phi_NM : 2D array, shape (N,M)\n",
    "        Each row is a feature vector for one example\n",
    "    t_N : 1D array, shape (N,)\n",
    "        Each row is a output scalar value for one example\n",
    "        \n",
    "    Returns\n",
    "    -------\n",
    "    w_ml_M : 2D array\n",
    "        Estimate of weight vector\n",
    "    '''\n",
    "    N, M = phi_NM.shape\n",
    "    if N < M:\n",
    "        # Insufficient data case. Cannot invert matrix the MxM matrix \\phi^T \\phi\n",
    "        # So the above formula does not apply! No one unique solution.\n",
    "        # Instead, infinitely many weight vectors solve in this case\n",
    "        # We'll just return the all-zero vector (may or may not be a valid solution if N > 0)\n",
    "        w_ml_M = np.zeros(M)\n",
    "    else:\n",
    "        # TODO FIXME compute as function of phi_NM and t_N via formula above\n",
    "        w_ml_M = np.ones(M)\n",
    "    return w_ml_M"
   ]
  },
  {
   "cell_type": "code",
   "execution_count": 22,
   "metadata": {},
   "outputs": [
    {
     "data": {
      "image/png": "[encoded data removed]",
      "text/plain": [
       "<Figure size 1728x288 with 6 Axes>"
      ]
     },
     "metadata": {},
     "output_type": "display_data"
    }
   ],
   "source": [
    "# Define the number of observations to look at to make a posterior\n",
    "N_values = [0, 2, 8, 32, 128, N]\n",
    "C = len(N_values)\n",
    "\n",
    "# Define the number of samples from the posterior to visualize\n",
    "S = 10\n",
    "\n",
    "# Create reproducible pseudorandom number generator\n",
    "prng = np.random.RandomState(33)\n",
    "\n",
    "# Create figure\n",
    "fig_h, axgrid = plt.subplots(nrows=1, ncols=C, sharex=True, sharey=True, figsize=(C * 4, 4))\n",
    "\n",
    "for col_id, Ncur in enumerate(N_values):\n",
    "    w_ml_M = calc_ml_estimate_of_w_M(phi_NM[:Ncur], t_N[:Ncur])\n",
    "        \n",
    "    # Activate current subplot and get its handle\n",
    "    ax_h = axgrid[col_id]\n",
    "    \n",
    "    # Show the observed data\n",
    "    ax_h.plot(x_N1[:Ncur], t_N[:Ncur], linestyle='', marker='s', color='black')\n",
    "\n",
    "    # Create a uniform grid of possible x values, to use in making predictions\n",
    "    G = 101\n",
    "    xgrid_G = np.linspace(-8, 8, G)[:,np.newaxis]\n",
    "    t_ml_G = np.zeros(G) # TODOFIXME make prediction using w_ml_M\n",
    "    \n",
    "    # Show a plot of this sample on current axis\n",
    "    ax_h.plot(xgrid_G, t_ml_G, '-');\n",
    "\n",
    "    # Make plots pretty and standardized\n",
    "    ax_h.set_aspect('equal', 'box');\n",
    "    ax_h.set_xlim([-8, 8]); ax_h.set_xticks([-6, -4, -2, 0, 2, 4, 6]);\n",
    "    ax_h.set_ylim([-8, 8]); ax_h.set_yticks([-6, -4, -2, 0, 2, 4, 6]);\n",
    "    ax_h.set_xlabel('input $x$')\n",
    "    if col_id == 0:\n",
    "        ax_h.set_ylabel('output $t$')\n",
    "    ax_h.set_title('after N=%d' % Ncur)"
   ]
  },
  {
   "cell_type": "code",
   "execution_count": null,
   "metadata": {},
   "outputs": [],
   "source": []
  }
 ],
 "metadata": {
  "kernelspec": {
   "display_name": "Python 3 (ipykernel)",
   "language": "python",
   "name": "python3"
  },
  "language_info": {
   "codemirror_mode": {
    "name": "ipython",
    "version": 3
   },
   "file_extension": ".py",
   "mimetype": "text/x-python",
   "name": "python",
   "nbconvert_exporter": "python",
   "pygments_lexer": "ipython3",
   "version": "3.9.2"
  }
 },
 "nbformat": 4,
 "nbformat_minor": 2
}
