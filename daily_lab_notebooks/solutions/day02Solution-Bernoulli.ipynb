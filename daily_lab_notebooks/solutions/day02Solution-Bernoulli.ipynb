{
 "cells": [
  {
   "cell_type": "markdown",
   "metadata": {},
   "source": [
    "# CS 136 day02 Lab: Bernoulli distributions and ML estimation\n",
    "\n",
    "\n",
    "## Outline\n",
    "\n",
    "* **Part 1: Numerical experiments with probabilities**\n",
    "* **Part 2: Numerical experiments with logarithms of probabilities**\n",
    "\n",
    "* **Part 3: Different ways to implement the Bern likelihood in NumPy**\n",
    "* * Compare correctness\n",
    "* * Compare speed\n",
    "* * Compare NaN issues\n",
    "\n",
    "* **Part 4: Visualizing the Bern likelihood as a function of $\\mu$**\n",
    "* **Part 5: Visualizing and Maximizing the Bern likelihood under alternative parameterization**\n",
    "\n",
    "## Takeaways\n",
    "\n",
    "* Try to work in log-space whenever taking products of many probabilities\n",
    "* Vectorization of Python code matters a lot to get good speed\n",
    "* Avoiding not-a-number (NaN) issues require careful thought\n",
    "* Maximum likelihood optimization can be done via numerical grid search as well as by calculus\n",
    "* Visualization is an excellent way to understand the behavior of distributions\n"
   ]
  },
  {
   "cell_type": "code",
   "execution_count": 69,
   "metadata": {},
   "outputs": [],
   "source": [
    "import numpy as np\n",
    "import scipy.stats\n",
    "import time\n",
    "import warnings\n",
    "warnings.filterwarnings(action='ignore')"
   ]
  },
  {
   "cell_type": "code",
   "execution_count": 70,
   "metadata": {},
   "outputs": [],
   "source": [
    "import matplotlib.pyplot as plt\n",
    "import seaborn as sns\n",
    "sns.set_style(\"whitegrid\")\n",
    "sns.set_context(\"notebook\", font_scale=1.25)"
   ]
  },
  {
   "cell_type": "markdown",
   "metadata": {},
   "source": [
    "# Part 1: Numerical explorations\n",
    "\n",
    "Let's imagine we observe a dataset of $N$ coin flips\n",
    "\n",
    "We'd like to compute the probability of all the observed values, $x_1, \\ldots x_N$.\n",
    "\n",
    "If we assume each coin is an independent Bernoulli with the same (shared) parameter $\\mu$, we can compute this as\n",
    "\n",
    "$$\n",
    "p( x_1, \\ldots x_N) = \\prod_{n=1}^N \\mu^{x_n} (1-\\mu)^{1-x_n}\n",
    "$$\n",
    "\n",
    "using the standard PMF of the Bernoulli\n",
    "\n",
    "This is getting complex, so let's simplify by assuming that our model is good, and it allocates 0.9 probability to each of the $x_n$ events that are observed.\n",
    "\n",
    "Our simplified calculation is now:\n",
    "\n",
    "\\begin{align}\n",
    "p( x_1, \\ldots x_N) &\\approx \\prod_{n=1}^N 0.9\n",
    "\\\\\n",
    "&\\approx 0.9^N\n",
    "\\end{align}\n",
    "\n",
    "Can we compute this easily?\n",
    "\n",
    "Let's look at several ways we could calculate $0.9^N$"
   ]
  },
  {
   "cell_type": "code",
   "execution_count": 71,
   "metadata": {},
   "outputs": [],
   "source": [
    "pt9 = np.asarray(0.9, np.float32)"
   ]
  },
  {
   "cell_type": "markdown",
   "metadata": {},
   "source": [
    "### Option a: Use star-star operator (**)"
   ]
  },
  {
   "cell_type": "code",
   "execution_count": 72,
   "metadata": {},
   "outputs": [
    {
     "name": "stdout",
     "output_type": "stream",
     "text": [
      "2.656132852400217e-05\n",
      "1.7478249495597477e-46\n",
      "0.0\n",
      "0.0\n"
     ]
    }
   ],
   "source": [
    "for N in [100, 1000, 10000, 100000]:\n",
    "    print(pt9 ** N)"
   ]
  },
  {
   "cell_type": "markdown",
   "metadata": {},
   "source": [
    "### Option b: use np.power to compute"
   ]
  },
  {
   "cell_type": "code",
   "execution_count": 73,
   "metadata": {},
   "outputs": [
    {
     "name": "stdout",
     "output_type": "stream",
     "text": [
      "2.656132852400217e-05\n",
      "1.7478249495597477e-46\n",
      "0.0\n",
      "0.0\n"
     ]
    }
   ],
   "source": [
    "for N in [100, 1000, 10000, 100000]:\n",
    "    print(np.power(pt9, N))"
   ]
  },
  {
   "cell_type": "markdown",
   "metadata": {},
   "source": [
    "### Option c: Repeat the product N times"
   ]
  },
  {
   "cell_type": "code",
   "execution_count": 93,
   "metadata": {},
   "outputs": [
    {
     "name": "stdout",
     "output_type": "stream",
     "text": [
      "2.6561329e-05\n",
      "6e-45\n",
      "6e-45\n",
      "6e-45\n"
     ]
    }
   ],
   "source": [
    "for N in [100, 1000, 10000, 100000]:\n",
    "    array_of_pt9_N = pt9 * np.ones(N, dtype=np.float32)\n",
    "    print(np.prod(array_of_pt9_N))"
   ]
  },
  {
   "cell_type": "markdown",
   "metadata": {},
   "source": [
    "## Discussion 1a: What's going on here?\n",
    "\n",
    "What problems do you notice? Why do they occur?\n",
    "\n",
    "Note that mathematically, it should always be true that if N < M, then 0.9^N > 0.9^M. "
   ]
  },
  {
   "cell_type": "markdown",
   "metadata": {},
   "source": [
    "> <font color='red'> \n",
    "    We observe that all of the 3 options a-c above have a problem in that expressions with N=10^4 and 10^5 evaluate to the same value, despite the fact that the latter should be way lower than the former. Essentially, we see that the product of many small positive numbers will <b>underflow</b> using 32-bit precision arithmetic.\n",
    "</font>"
   ]
  },
  {
   "cell_type": "markdown",
   "metadata": {},
   "source": [
    "## Exercise 1b: What would change if you used float64 instead of float32 precision?\n",
    "\n",
    "Try it out!"
   ]
  },
  {
   "cell_type": "markdown",
   "metadata": {},
   "source": [
    "> <font color='red'> \n",
    "    Trying out 64-bit does help somewhat (raises the lowest value of N at which problems occur), but there are still underflow problems because the precision is still finite.\n",
    "</font>"
   ]
  },
  {
   "cell_type": "markdown",
   "metadata": {},
   "source": [
    "## Discussion 1c: What are the practical takeaways of the numerical issues here?\n",
    "\n",
    "If you were to be analyzing large datasets (with 1000s and 1000s of entries), can we assign each one a \"probability\" between 0 and 1 and ask about joint probabilities by taking products?\n"
   ]
  },
  {
   "cell_type": "markdown",
   "metadata": {},
   "source": [
    "> <font color='red'> \n",
    "    Products of small positive values are unreliable above say N=100 or so.\n",
    "    To avoid, we should maybe try to ask our question a different way, by using logarithms (as in Part 2)\n",
    "</font>"
   ]
  },
  {
   "cell_type": "markdown",
   "metadata": {},
   "source": [
    "# Part 2: Numerical explorations with log\n"
   ]
  },
  {
   "cell_type": "markdown",
   "metadata": {},
   "source": [
    "Now we'll consider tracking the *natural log* of probability above\n",
    "\n",
    "\\begin{align}\n",
    "\\log \\left[ p( x_1, \\ldots x_N)  \\right] &\\approx \\log \\left[ \\prod_{n=1}^N 0.9 \\right]\n",
    "\\\\\n",
    "&= \\sum_{n=1}^N \\log 0.9 = N \\log 0.9\n",
    "\\end{align}\n",
    "\n",
    "Let's try it for various values of $N$"
   ]
  },
  {
   "cell_type": "code",
   "execution_count": 75,
   "metadata": {},
   "outputs": [
    {
     "name": "stdout",
     "output_type": "stream",
     "text": [
      "-10.536054521799088\n",
      "-105.36054521799088\n",
      "-1053.6054521799088\n",
      "-10536.054521799088\n"
     ]
    }
   ],
   "source": [
    "for N in [100, 1000, 10000, 100000]:\n",
    "    print(N * np.log(pt9))"
   ]
  },
  {
   "cell_type": "markdown",
   "metadata": {},
   "source": [
    "## Discussion 2a: What's going on here?\n",
    "\n",
    "Do you see the same problems as in Discussion 1a?\n",
    "\n",
    "Note that mathematically, it should always be true that if N < M, then $\\log(0.9^N) > \\log(0.9^M)$"
   ]
  },
  {
   "cell_type": "markdown",
   "metadata": {},
   "source": [
    "> <font color='red'> \n",
    "    Here we see the math works as expected for $N$ values up to several billion at least.\n",
    "    There should be little trouble handling most datasets.\n",
    "    Naturally, keep in mind that there is some N value at which N \\log 0.9 will overflow the finite-precision of a computer, but that N value will be enormous (and likely you'll have bigger problems with a dataset of that size than how to compute its log probability)\n",
    "</font>"
   ]
  },
  {
   "cell_type": "markdown",
   "metadata": {},
   "source": [
    "## Discussion 2b: What are the practical takeaways of the numerical issues here?\n",
    "\n",
    "If you were to be analyzing large datasets (with 1000s and 1000s of entries), which should we look at:\n",
    "    \n",
    "* $p( x_1, \\ldots x_N)$\n",
    "* $\\log p( x_1, \\ldots x_N)$\n",
    "\n"
   ]
  },
  {
   "cell_type": "markdown",
   "metadata": {},
   "source": [
    "> <font color='red'> \n",
    "    We should almost always prefer the log PMF / PDF when doing numerical computing. \n",
    "    We'll be able to handle much bigger datasets without numerical errors. (Plus the math itself is often easier that way as well)\n",
    "</font>"
   ]
  },
  {
   "cell_type": "markdown",
   "metadata": {},
   "source": [
    "# Part 3: Computing the log likelihood of a Bernoulli\n",
    "\n",
    "Two ways to write the formula for a Bernoulli's log PMF mathematically\n",
    "\n",
    "\\begin{align}\n",
    "\\log p( x | \\mu) &= \\begin{cases}\n",
    "\\log \\mu & ~\\text{if}~ x =1\n",
    "\\\\\n",
    "\\log (1-\\mu) & ~\\text{if}~ x =0\n",
    "\\end{cases} && \\text{\"A: Select case only\"}\n",
    "\\\\\n",
    "&= x \\log \\mu + (1-x) \\log (1-\\mu) && \\text{\"B: Weighted product of cases\"}\n",
    "\\end{align}\n",
    "\n",
    "Now, while these are equivalent mathematically, they may each have different properties when implemented in code."
   ]
  },
  {
   "cell_type": "markdown",
   "metadata": {},
   "source": [
    "## Discussion 3a: Pros / Cons\n",
    "\n",
    "What do you suggest are the pros and cons of implementing each of the two views of the formula above?"
   ]
  },
  {
   "cell_type": "markdown",
   "metadata": {},
   "source": [
    "> <font color='red'> \n",
    " Looking for: Formula A might be faster (you compute only 1 of the 2 terms in Formula B). Formula A is simpler to implement (maybe). Formula B is easier to handle in math derivation (no if statements, just multiplies and adds).\n",
    "</font>"
   ]
  },
  {
   "cell_type": "markdown",
   "metadata": {},
   "source": [
    "## Implementations with forloop\n",
    "\n",
    "We'll first implement formulas A and B using for loops to traverse a large dataset of size $N$"
   ]
  },
  {
   "cell_type": "code",
   "execution_count": 76,
   "metadata": {},
   "outputs": [],
   "source": [
    "def calc_bern_log_pmf__A_forloop(x_N, mu):\n",
    "    ''' Compute bernoulli log PMF of dataset at given parameter\n",
    "    \n",
    "    Args\n",
    "    ----\n",
    "    x_N : 1D array of type int32\n",
    "        Contains binary values\n",
    "    mu : scalar float, between 0.0 and 1.0\n",
    "        Probability of the positive outcome in Bern model\n",
    "        \n",
    "    Returns\n",
    "    -------\n",
    "    logpmf : scalar float\n",
    "        Log probability of the entire dataset of N points\n",
    "    '''\n",
    "    logpmf = 0.0\n",
    "    N = x_N.size\n",
    "    for n in range(N):\n",
    "        if x_N[n] == 1:\n",
    "            logpmf += np.log(mu)\n",
    "        else:\n",
    "            logpmf += np.log(1-mu)\n",
    "    return logpmf"
   ]
  },
  {
   "cell_type": "code",
   "execution_count": 77,
   "metadata": {},
   "outputs": [],
   "source": [
    "def calc_bern_log_pmf__B_forloop(x_N, mu):\n",
    "    ''' Compute bernoulli log PMF of dataset at given parameter\n",
    "    \n",
    "    Args\n",
    "    ----\n",
    "    x_N : 1D array of type int32\n",
    "        Contains binary values\n",
    "    mu : scalar float, between 0.0 and 1.0\n",
    "        Probability of the positive outcome in Bern model\n",
    "        \n",
    "    Returns\n",
    "    -------\n",
    "    logpmf : scalar float\n",
    "        Log probability of the entire dataset of N points\n",
    "    '''\n",
    "    logpmf = 0.0\n",
    "    N = x_N.size\n",
    "    for n in range(N):\n",
    "        logpmf += x_N[n] * np.log(mu) + (1-x_N[n]) * np.log(1-mu)\n",
    "    return logpmf"
   ]
  },
  {
   "cell_type": "markdown",
   "metadata": {},
   "source": [
    "## Implementations with vectorization\n",
    "\n",
    "We'll now implement formulas A and B using **vectorized** numpy code for a dataset of size $N$.\n",
    "\n",
    "This code has NO PYTHON-LEVEL LOOPS. Instead, the work done in the \"loop\" is performed in compiled routines like `np.sum`, so that the work is done very fast."
   ]
  },
  {
   "cell_type": "code",
   "execution_count": 99,
   "metadata": {},
   "outputs": [],
   "source": [
    "def calc_bern_log_pmf__A_vectorized(x_N, mu):\n",
    "    ''' Compute bernoulli log PMF of dataset at given parameter\n",
    "    \n",
    "    Args\n",
    "    ----\n",
    "    x_N : 1D array of type int32\n",
    "        Contains binary values\n",
    "    mu : scalar float, between 0.0 and 1.0\n",
    "        Probability of the positive outcome in Bern model\n",
    "        \n",
    "    Returns\n",
    "    -------\n",
    "    logpmf : scalar float\n",
    "        Log probability of the entire dataset of N points\n",
    "    '''\n",
    "    count1 = np.sum(x_N==1)\n",
    "    count0 = np.sum(x_N==0)\n",
    "    logpmf = 0.0\n",
    "    if count1 > 0:\n",
    "        logpmf += count1 * np.log(mu) \n",
    "    if count0 > 0:\n",
    "        logpmf += count0 * np.log(1-mu)\n",
    "    return logpmf"
   ]
  },
  {
   "cell_type": "code",
   "execution_count": 100,
   "metadata": {},
   "outputs": [],
   "source": [
    "def calc_bern_log_pmf__B_vectorized(x_N, mu):\n",
    "    ''' Compute bernoulli log PMF of dataset at given parameter\n",
    "    \n",
    "    Args\n",
    "    ----\n",
    "    x_N : 1D array of type int32\n",
    "        Contains binary values\n",
    "    mu : scalar float, between 0.0 and 1.0\n",
    "        Probability of the positive outcome in Bern model\n",
    "        \n",
    "    Returns\n",
    "    -------\n",
    "    logpmf : scalar float\n",
    "        Log probability of the entire dataset of N points\n",
    "    '''\n",
    "    logpmf = np.sum(x_N * np.log(mu) + (1-x_N) * np.log(1-mu))\n",
    "    return logpmf"
   ]
  },
  {
   "cell_type": "markdown",
   "metadata": {},
   "source": [
    "## Example 3b: Verify correctness of these implementations with \"typical\" inputs"
   ]
  },
  {
   "cell_type": "markdown",
   "metadata": {},
   "source": [
    "\n",
    "Let's ask each of the 4 functions above for the logpmf of the same dataset with same mu value.\n",
    "\n",
    "We should observe the *same* logpmf return value if the 4 implementations are each correct."
   ]
  },
  {
   "cell_type": "markdown",
   "metadata": {},
   "source": [
    "### Verify correctness with N=20 and mu = 0.5\n"
   ]
  },
  {
   "cell_type": "code",
   "execution_count": 107,
   "metadata": {},
   "outputs": [
    {
     "name": "stdout",
     "output_type": "stream",
     "text": [
      "x_N:[0 0 0 0 1 0 1 1 1 0 0 0 0 1 0 1 1 0 0 0]\n",
      "-13.862943611198906 calc_bern_log_pmf__A_forloop\n",
      "-13.862943611198906 calc_bern_log_pmf__B_forloop\n",
      "-13.862943611198904 calc_bern_log_pmf__A_vectorized\n",
      "-13.862943611198906 calc_bern_log_pmf__B_vectorized\n"
     ]
    }
   ],
   "source": [
    "x_N = np.random.choice(2, size=20)\n",
    "mu = 0.5\n",
    "\n",
    "print(\"x_N:\" + str(x_N))\n",
    "\n",
    "formula_types = ['A', 'B']\n",
    "loop_types = ['forloop', 'vectorized']\n",
    "for loop in loop_types:\n",
    "    for formula in formula_types:\n",
    "        # ask Python for the function in local workspace with the provided name\n",
    "        calc_bern_log_lik = locals()['calc_bern_log_pmf__%s_%s' % (formula, loop)]\n",
    "        print(calc_bern_log_lik(x_N, mu), calc_bern_log_lik.__name__)"
   ]
  },
  {
   "cell_type": "markdown",
   "metadata": {},
   "source": [
    "### Verify correctness with N=30 and mu = 0.345"
   ]
  },
  {
   "cell_type": "code",
   "execution_count": 108,
   "metadata": {},
   "outputs": [
    {
     "name": "stdout",
     "output_type": "stream",
     "text": [
      "x_N:[0 0 1 1 1 1 0 1 1 1 1 0 1 0 0 1 0 0 0 0 1 0 0 1 0 0 1 1 0 1]\n",
      "-22.30996357946492 calc_bern_log_pmf__A_forloop\n",
      "-22.30996357946492 calc_bern_log_pmf__B_forloop\n",
      "-22.309963579464934 calc_bern_log_pmf__A_vectorized\n",
      "-22.30996357946493 calc_bern_log_pmf__B_vectorized\n"
     ]
    }
   ],
   "source": [
    "x_N = np.random.choice(2, size=30)\n",
    "mu = 0.345\n",
    "\n",
    "print(\"x_N:\" + str(x_N))\n",
    "\n",
    "formula_types = ['A', 'B']\n",
    "loop_types = ['forloop', 'vectorized']\n",
    "for loop in loop_types:\n",
    "    for formula in formula_types:\n",
    "        # ask Python for the function in local workspace with the provided name\n",
    "        calc_bern_log_lik = locals()['calc_bern_log_pmf__%s_%s' % (formula, loop)]\n",
    "        print(calc_bern_log_lik(x_N, mu), calc_bern_log_lik.__name__)"
   ]
  },
  {
   "cell_type": "markdown",
   "metadata": {},
   "source": [
    "## Discussion 3b: Did our correctness tests pass?"
   ]
  },
  {
   "cell_type": "markdown",
   "metadata": {},
   "source": [
    "> <font color='red'> \n",
    " Looking for: yes, all 4 functions gave same logpmf value given same input, as expected.\n",
    "</font>"
   ]
  },
  {
   "cell_type": "markdown",
   "metadata": {},
   "source": [
    "## Example 3c: Assess speed of each implementation on large datasets\n",
    "\n",
    "We'll take the median of 30 trials for each function, to be sure that we get \"typical\" timing not an outlier."
   ]
  },
  {
   "cell_type": "code",
   "execution_count": 110,
   "metadata": {},
   "outputs": [
    {
     "name": "stdout",
     "output_type": "stream",
     "text": [
      "x_N:[1 0 1 ... 0 1 1]\n",
      "      8.134 milliseconds calc_bern_log_pmf__A_forloop\n",
      "     55.240 milliseconds calc_bern_log_pmf__B_forloop\n",
      "      0.038 milliseconds calc_bern_log_pmf__A_vectorized\n",
      "      0.042 milliseconds calc_bern_log_pmf__B_vectorized\n"
     ]
    }
   ],
   "source": [
    "n_trials = 30\n",
    "N = 10000\n",
    "\n",
    "x_N = np.random.choice(2, size=N)\n",
    "mu = 0.345\n",
    "\n",
    "print(\"x_N:\" + str(x_N))\n",
    "\n",
    "formula_types = ['A', 'B']\n",
    "loop_types = ['forloop', 'vectorized']\n",
    "for loop in loop_types:\n",
    "    for formula in formula_types:\n",
    "        # ask Python for the function in local workspace with the provided name\n",
    "        calc_bern_log_lik = locals()['calc_bern_log_pmf__%s_%s' % (formula, loop)]\n",
    "        \n",
    "        runtimes_in_millisec = list()\n",
    "        for rep in range(n_trials):\n",
    "            start_time_millisec = time.time() * 1000\n",
    "            ans = calc_bern_log_lik(x_N, mu)\n",
    "            elapsed_time_millisec = time.time() * 1000 - start_time_millisec\n",
    "            runtimes_in_millisec.append(elapsed_time_millisec)\n",
    "            \n",
    "        time_str = \"% 11.3f milliseconds\" % (np.median(runtimes_in_millisec))\n",
    "        print(time_str, calc_bern_log_lik.__name__)"
   ]
  },
  {
   "cell_type": "markdown",
   "metadata": {},
   "source": [
    "## Discussion 3c: Are these timing results what you expect? How much faster is vectorized code?"
   ]
  },
  {
   "cell_type": "markdown",
   "metadata": {},
   "source": [
    "> <font color='red'> \n",
    " Looking for: Vectorized code seems to be about 1000x faster. Avoid for loops like the plague!\n",
    "        Formula B does seem to be more costly than Formula A, since in Formula B we compute 2x the terms and thus do 2x the work (even though one term is always zero)\n",
    "</font>"
   ]
  },
  {
   "cell_type": "markdown",
   "metadata": {},
   "source": [
    "## Example 3d: Testing edgecases for numerical correctness\n",
    "\n",
    "Look at the two test inputs below.\n",
    "\n",
    "Which of the 4 implementations are correct for each edge case?\n"
   ]
  },
  {
   "cell_type": "code",
   "execution_count": 112,
   "metadata": {},
   "outputs": [
    {
     "name": "stdout",
     "output_type": "stream",
     "text": [
      "x_N:[1 1 1 1]\n",
      "0.0 calc_bern_log_pmf__A_forloop\n",
      "nan calc_bern_log_pmf__B_forloop\n",
      "0.0 calc_bern_log_pmf__A_vectorized\n",
      "nan calc_bern_log_pmf__B_vectorized\n"
     ]
    }
   ],
   "source": [
    "x_N = np.asarray([1, 1, 1, 1], dtype=np.int32)\n",
    "mu = 1.0\n",
    "\n",
    "print(\"x_N:\" + str(x_N))\n",
    "\n",
    "formula_types = ['A', 'B']\n",
    "loop_types = ['forloop', 'vectorized']\n",
    "for loop in loop_types:\n",
    "    for formula in formula_types:\n",
    "        # ask Python for the function in local workspace with the provided name\n",
    "        calc_bern_log_lik = locals()['calc_bern_log_pmf__%s_%s' % (formula, loop)]\n",
    "        print(calc_bern_log_lik(x_N, mu), calc_bern_log_lik.__name__)"
   ]
  },
  {
   "cell_type": "code",
   "execution_count": 113,
   "metadata": {},
   "outputs": [
    {
     "name": "stdout",
     "output_type": "stream",
     "text": [
      "x_N:[0 0 1]\n",
      "-inf calc_bern_log_pmf__A_forloop\n",
      "nan calc_bern_log_pmf__B_forloop\n",
      "-inf calc_bern_log_pmf__A_vectorized\n",
      "nan calc_bern_log_pmf__B_vectorized\n"
     ]
    }
   ],
   "source": [
    "x_N = np.asarray([0, 0, 1], dtype=np.int32)\n",
    "mu = 0.0\n",
    "\n",
    "print(\"x_N:\" + str(x_N))\n",
    "\n",
    "formula_types = ['A', 'B']\n",
    "loop_types = ['forloop', 'vectorized']\n",
    "for loop in loop_types:\n",
    "    for formula in formula_types:\n",
    "        # ask Python for the function in local workspace with the provided name\n",
    "        calc_bern_log_lik = locals()['calc_bern_log_pmf__%s_%s' % (formula, loop)]\n",
    "        print(calc_bern_log_lik(x_N, mu), calc_bern_log_lik.__name__)"
   ]
  },
  {
   "cell_type": "markdown",
   "metadata": {},
   "source": [
    "## Discussion 3d: Edgecase analysis\n",
    "\n",
    "> <font color='red'> \n",
    "    Formula A is correct in both cases. There should never be NaN values when mu is exactly 0.0. NaN values always indicate a problem in implementation correctness.\n",
    "</font>"
   ]
  },
  {
   "cell_type": "markdown",
   "metadata": {},
   "source": [
    "## Discussion 3e: Edge cases in practice?\n",
    "\n",
    "Are the nans we saw in 3d something to worry about in a real application? How could you avoid this?"
   ]
  },
  {
   "cell_type": "markdown",
   "metadata": {},
   "source": [
    "> <font color='red'> \n",
    "    Looking for: the NaN values might break your gradient descent optimization and cause it to return nonsense results.\n",
    "    Getting these details right matters.\n",
    "</font>"
   ]
  },
  {
   "cell_type": "markdown",
   "metadata": {},
   "source": [
    "# Part 4: Visualizing the likelihood as a function of parameter $\\mu$ "
   ]
  },
  {
   "cell_type": "markdown",
   "metadata": {},
   "source": [
    "## Draw fake data from our model"
   ]
  },
  {
   "cell_type": "code",
   "execution_count": 85,
   "metadata": {},
   "outputs": [],
   "source": [
    "# Define a random generator object, with specific seed for reproducibility\n",
    "prng = np.random.RandomState(101)\n",
    "\n",
    "# Settings\n",
    "N = 10000   # num coin tosses to observe\n",
    "\n",
    "# Pick a \"true\" mu value for data generation\n",
    "true_mu = 0.5678\n",
    "\n",
    "# Sample N examples from Bernoulli given mu\n",
    "x_N = scipy.stats.bernoulli(true_mu).rvs(size=N, random_state=prng)\n",
    "# OR...\n",
    "# x_N = prng.rand(N) < true_mu # another equivalent way to draw N samples from a Bernoulli with parameter 'true_mu'"
   ]
  },
  {
   "cell_type": "code",
   "execution_count": 86,
   "metadata": {},
   "outputs": [
    {
     "data": {
      "text/plain": [
       "array([1, 0, 1, 1, 0, 0, 1, 0, 0, 1, 1, 1, 1, 0, 0, 1, 1, 0, 0, 1])"
      ]
     },
     "execution_count": 86,
     "metadata": {},
     "output_type": "execute_result"
    }
   ],
   "source": [
    "# Print first 20 values of data...\n",
    "x_N[:20]"
   ]
  },
  {
   "cell_type": "markdown",
   "metadata": {},
   "source": [
    "## Plot of likelihood PMF value as a function of parameter mu\n",
    "\n",
    "We'll make a separate plot as we see more and more data (1 coin, 3 coins, 10 coins, ...)"
   ]
  },
  {
   "cell_type": "code",
   "execution_count": 87,
   "metadata": {},
   "outputs": [
    {
     "data": {
      "image/png": "[encoded data removed]",
      "text/plain": [
       "<Figure size 1512x216 with 7 Axes>"
      ]
     },
     "metadata": {},
     "output_type": "display_data"
    }
   ],
   "source": [
    "Npartial_list = [1, 3, 10, 33, 100, 1000, 10000]\n",
    "L = len(Npartial_list)\n",
    "\n",
    "fig, axgrid = plt.subplots(\n",
    "    nrows=1, ncols=L,\n",
    "    sharex=True, sharey=False,\n",
    "    figsize=(3 * L, 3))\n",
    "\n",
    "# Define a grid of mu values at which we'll evaluate the likelihood\n",
    "G = 501\n",
    "mu_grid_G = np.linspace(0.0001, 0.9999, G)\n",
    "\n",
    "for aa, Npartial in enumerate(Npartial_list):\n",
    "\n",
    "    log_lik_G = np.zeros(G)\n",
    "    for gg in range(G):\n",
    "        log_lik_G[gg] = calc_bern_log_pmf__A_vectorized(x_N[:Npartial], mu_grid_G[gg])\n",
    "                                    \n",
    "    axgrid[aa].plot(mu_grid_G, log_lik_G, 'b-')\n",
    "    axgrid[aa].set_title(\"after N = %d coins\" % Npartial)\n",
    "\n",
    "    ggstar = np.argmax(log_lik_G)\n",
    "    mustar = mu_grid_G[ggstar]\n",
    "    axgrid[aa].set_xlabel(r\"$\\mu^* = %.3f$\" % mustar)\n",
    "    \n",
    "plt.tight_layout();"
   ]
  },
  {
   "cell_type": "markdown",
   "metadata": {},
   "source": [
    "## Discussion 4a: Analyze your visuals\n",
    "\n",
    "What do you notice about the plots above as the number of observed coins $N$ increases?\n",
    "\n",
    "What happens to the shape of the curve?\n",
    "What happens to the y-axis scale? "
   ]
  },
  {
   "cell_type": "markdown",
   "metadata": {},
   "source": [
    "> <font color='red'> \n",
    "    The shape of the curve is an upside-down U with maximum at the preferred $\\mu$ value.\n",
    "    The \"steepness\" of the curve increases as N gets bigger, since there is more and more data to favor some mu values over others.\n",
    "    As N increases, the location of the optimal $\\mu$ converges to the \"true\" mu value.\n",
    "</font>"
   ]
  },
  {
   "cell_type": "markdown",
   "metadata": {},
   "source": [
    "## Discussion 4b: How to find the maximum?\n",
    "\n",
    "In the notes, we discussed how we can use calculus to solve for the \"maximum likelihood\" value of $\\mu$.\n",
    "\n",
    "Above, however, we used a different procedure (see the line `mustar = ...`). What is this procedure? How does it work? \n",
    "\n",
    "What are the pros/cons of the procedure above vs. the calculus procedure?"
   ]
  },
  {
   "cell_type": "markdown",
   "metadata": {},
   "source": [
    "> <font color='red'> \n",
    "    Our plots use a numerical grid of G=501 evenly spaced mu values between 0.0001 and 0.9999.\n",
    "    Here, we find the maximum among this grid of possiblities, just by exhaustively calculating the likelihood at each of the G values and selecting the largest one.\n",
    "   </font>\n",
    "   \n",
    "> <font color='red'> \n",
    "    Pros: This is easier to implement than a gradient descent procedure or an exact formula.\n",
    "    Cons: in high dimensions, this is infeasible since we'd need huge number of grid points.\n",
    "</font>"
   ]
  },
  {
   "cell_type": "markdown",
   "metadata": {},
   "source": [
    "# Part 5: Alternative parameterization using sigmoid of a real value\n",
    "\n",
    "Let $r \\in \\mathbb{R}$ be an UNCONSTRAINED real value parameter\n",
    "\n",
    "Define the sigmoid function as the S-shaped function that maps any $r$ value to between 0.0 and 1.0\n",
    "\n",
    "$$\n",
    "\\sigma(r) = \\frac{1}{1 + e^{-r}}\n",
    "$$\n",
    "\n",
    "We visualize this function below"
   ]
  },
  {
   "cell_type": "code",
   "execution_count": 88,
   "metadata": {},
   "outputs": [],
   "source": [
    "from scipy.special import expit as sigmoid # use a convenient implementation already in scipy"
   ]
  },
  {
   "cell_type": "code",
   "execution_count": 89,
   "metadata": {},
   "outputs": [
    {
     "data": {
      "image/png": "[encoded data removed]",
      "text/plain": [
       "<Figure size 432x288 with 1 Axes>"
      ]
     },
     "metadata": {},
     "output_type": "display_data"
    }
   ],
   "source": [
    "G = 501\n",
    "r_grid_G = np.linspace(-6, +6, G)\n",
    "\n",
    "plt.plot(r_grid_G, sigmoid(r_grid_G), 'k-');\n",
    "plt.xlabel('r')\n",
    "plt.ylabel('$\\sigma(r)$');"
   ]
  },
  {
   "cell_type": "markdown",
   "metadata": {},
   "source": [
    "\n",
    "Let's consider a model for our $N$ coins that looks like this\n",
    "\n",
    "$$\n",
    "p( x_1, \\ldots x_N) = \\prod_{n=1}^N \\text{BernPMF}( x_n | \\sigma(r) )\n",
    "$$\n",
    "\n",
    "We can visualize the likelihood as a function of $r$ for the same fake dataset as in part 4."
   ]
  },
  {
   "cell_type": "code",
   "execution_count": 90,
   "metadata": {},
   "outputs": [
    {
     "data": {
      "image/png": "[encoded data removed]",
      "text/plain": [
       "<Figure size 1512x216 with 7 Axes>"
      ]
     },
     "metadata": {},
     "output_type": "display_data"
    }
   ],
   "source": [
    "Npartial_list = [1, 3, 10, 33, 100, 1000, 10000]\n",
    "L = len(Npartial_list)\n",
    "\n",
    "fig, axgrid = plt.subplots(\n",
    "    nrows=1, ncols=L,\n",
    "    sharex=True, sharey=False,\n",
    "    figsize=(3 * L, 3))\n",
    "\n",
    "for aa, Npartial in enumerate(Npartial_list):\n",
    "\n",
    "    log_lik_G = np.zeros(G)\n",
    "    for gg in range(G):\n",
    "        proba_from_r_gg = sigmoid(r_grid_G[gg])\n",
    "        log_lik_G[gg] = calc_bern_log_pmf__A_vectorized(\n",
    "            x_N[:Npartial], proba_from_r_gg)\n",
    "                                    \n",
    "    axgrid[aa].plot(r_grid_G, log_lik_G, 'b-')\n",
    "    axgrid[aa].set_title(\"after N = %d coins\" % Npartial)\n",
    "\n",
    "    ggstar = np.argmax(log_lik_G)\n",
    "    rstar = r_grid_G[ggstar]\n",
    "    axgrid[aa].set_xlabel(r\"$r^* = %.3f$\" % rstar)\n",
    "    \n",
    "plt.tight_layout();"
   ]
  },
  {
   "cell_type": "markdown",
   "metadata": {},
   "source": [
    "## Discussion 5a: Is the ML estimate the same before and after reparameterization?\n",
    "\n",
    "One of the key advantages of ML estimation is that you won't get meaningfully different answers depending on how you choose to parameterize the problem.\n",
    "\n",
    "Is this seen in practice here? What might account for the subtle differences?\n",
    "\n",
    "> <font color='red'> \n",
    "   The optimal $\\mu^*$ value (using our grid search) was 0.562\n",
    "   </font>\n",
    "   \n",
    "> <font color='red'> \n",
    "    The optimal $r^*$ value (using our grid search) is 0.264\n",
    "    <br />\n",
    "    If we apply a sigmoid to our optimal rstar, we get 0.567, which is off by 0.005 ish\n",
    "</font>\n",
    "\n",
    "The differences are likely due to the finite grid we are searching.\n",
    "If we used a finer grid, we should get closer agreement."
   ]
  },
  {
   "cell_type": "code",
   "execution_count": 91,
   "metadata": {},
   "outputs": [
    {
     "data": {
      "text/plain": [
       "0.5656193249329816"
      ]
     },
     "execution_count": 91,
     "metadata": {},
     "output_type": "execute_result"
    }
   ],
   "source": [
    "sigmoid(rstar)"
   ]
  },
  {
   "cell_type": "code",
   "execution_count": null,
   "metadata": {},
   "outputs": [],
   "source": []
  }
 ],
 "metadata": {
  "kernelspec": {
   "display_name": "Python 3 (ipykernel)",
   "language": "python",
   "name": "python3"
  },
  "language_info": {
   "codemirror_mode": {
    "name": "ipython",
    "version": 3
   },
   "file_extension": ".py",
   "mimetype": "text/x-python",
   "name": "python",
   "nbconvert_exporter": "python",
   "pygments_lexer": "ipython3",
   "version": "3.9.2"
  }
 },
 "nbformat": 4,
 "nbformat_minor": 4
}
